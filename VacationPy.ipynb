{
 "cells": [
  {
   "cell_type": "code",
   "execution_count": 1,
   "id": "c1a314f6",
   "metadata": {},
   "outputs": [
    {
     "name": "stdout",
     "output_type": "stream",
     "text": [
      "Requirement already satisfied: gmaps in c:\\users\\mouha\\anaconda3\\envs\\pythondata\\lib\\site-packages (0.9.0)\n",
      "Requirement already satisfied: traitlets>=4.3.0 in c:\\users\\mouha\\anaconda3\\envs\\pythondata\\lib\\site-packages (from gmaps) (5.0.5)\n",
      "Requirement already satisfied: six in c:\\users\\mouha\\anaconda3\\envs\\pythondata\\lib\\site-packages (from gmaps) (1.15.0)\n",
      "Requirement already satisfied: geojson>=2.0.0 in c:\\users\\mouha\\anaconda3\\envs\\pythondata\\lib\\site-packages (from gmaps) (2.5.0)\n",
      "Requirement already satisfied: ipython>=5.3.0 in c:\\users\\mouha\\anaconda3\\envs\\pythondata\\lib\\site-packages (from gmaps) (7.22.0)\n",
      "Requirement already satisfied: ipywidgets>=7.0.0 in c:\\users\\mouha\\anaconda3\\envs\\pythondata\\lib\\site-packages (from gmaps) (7.6.3)\n",
      "Requirement already satisfied: decorator in c:\\users\\mouha\\anaconda3\\envs\\pythondata\\lib\\site-packages (from ipython>=5.3.0->gmaps) (5.0.6)\n",
      "Requirement already satisfied: pygments in c:\\users\\mouha\\anaconda3\\envs\\pythondata\\lib\\site-packages (from ipython>=5.3.0->gmaps) (2.8.1)\n",
      "Requirement already satisfied: prompt-toolkit!=3.0.0,!=3.0.1,<3.1.0,>=2.0.0 in c:\\users\\mouha\\anaconda3\\envs\\pythondata\\lib\\site-packages (from ipython>=5.3.0->gmaps) (3.0.17)\n",
      "Requirement already satisfied: pickleshare in c:\\users\\mouha\\anaconda3\\envs\\pythondata\\lib\\site-packages (from ipython>=5.3.0->gmaps) (0.7.5)\n",
      "Requirement already satisfied: colorama in c:\\users\\mouha\\anaconda3\\envs\\pythondata\\lib\\site-packages (from ipython>=5.3.0->gmaps) (0.4.4)\n",
      "Requirement already satisfied: setuptools>=18.5 in c:\\users\\mouha\\anaconda3\\envs\\pythondata\\lib\\site-packages (from ipython>=5.3.0->gmaps) (52.0.0.post20210125)\n",
      "Requirement already satisfied: jedi>=0.16 in c:\\users\\mouha\\anaconda3\\envs\\pythondata\\lib\\site-packages (from ipython>=5.3.0->gmaps) (0.17.2)\n",
      "Requirement already satisfied: backcall in c:\\users\\mouha\\anaconda3\\envs\\pythondata\\lib\\site-packages (from ipython>=5.3.0->gmaps) (0.2.0)\n",
      "Requirement already satisfied: ipykernel>=4.5.1 in c:\\users\\mouha\\anaconda3\\envs\\pythondata\\lib\\site-packages (from ipywidgets>=7.0.0->gmaps) (5.3.4)\n",
      "Requirement already satisfied: jupyterlab-widgets>=1.0.0 in c:\\users\\mouha\\anaconda3\\envs\\pythondata\\lib\\site-packages (from ipywidgets>=7.0.0->gmaps) (1.0.0)\n",
      "Requirement already satisfied: nbformat>=4.2.0 in c:\\users\\mouha\\anaconda3\\envs\\pythondata\\lib\\site-packages (from ipywidgets>=7.0.0->gmaps) (5.1.3)\n",
      "Requirement already satisfied: widgetsnbextension~=3.5.0 in c:\\users\\mouha\\anaconda3\\envs\\pythondata\\lib\\site-packages (from ipywidgets>=7.0.0->gmaps) (3.5.1)\n",
      "Requirement already satisfied: tornado>=4.2 in c:\\users\\mouha\\anaconda3\\envs\\pythondata\\lib\\site-packages (from ipykernel>=4.5.1->ipywidgets>=7.0.0->gmaps) (6.1)\n",
      "Requirement already satisfied: jupyter-client in c:\\users\\mouha\\anaconda3\\envs\\pythondata\\lib\\site-packages (from ipykernel>=4.5.1->ipywidgets>=7.0.0->gmaps) (6.1.12)\n",
      "Requirement already satisfied: parso<0.8.0,>=0.7.0 in c:\\users\\mouha\\anaconda3\\envs\\pythondata\\lib\\site-packages (from jedi>=0.16->ipython>=5.3.0->gmaps) (0.7.0)\n",
      "Requirement already satisfied: jupyter-core in c:\\users\\mouha\\anaconda3\\envs\\pythondata\\lib\\site-packages (from nbformat>=4.2.0->ipywidgets>=7.0.0->gmaps) (4.7.1)\n",
      "Requirement already satisfied: jsonschema!=2.5.0,>=2.4 in c:\\users\\mouha\\anaconda3\\envs\\pythondata\\lib\\site-packages (from nbformat>=4.2.0->ipywidgets>=7.0.0->gmaps) (3.2.0)\n",
      "Requirement already satisfied: ipython-genutils in c:\\users\\mouha\\anaconda3\\envs\\pythondata\\lib\\site-packages (from nbformat>=4.2.0->ipywidgets>=7.0.0->gmaps) (0.2.0)\n",
      "Requirement already satisfied: importlib-metadata in c:\\users\\mouha\\anaconda3\\envs\\pythondata\\lib\\site-packages (from jsonschema!=2.5.0,>=2.4->nbformat>=4.2.0->ipywidgets>=7.0.0->gmaps) (3.10.0)\n",
      "Requirement already satisfied: attrs>=17.4.0 in c:\\users\\mouha\\anaconda3\\envs\\pythondata\\lib\\site-packages (from jsonschema!=2.5.0,>=2.4->nbformat>=4.2.0->ipywidgets>=7.0.0->gmaps) (20.3.0)\n",
      "Requirement already satisfied: pyrsistent>=0.14.0 in c:\\users\\mouha\\anaconda3\\envs\\pythondata\\lib\\site-packages (from jsonschema!=2.5.0,>=2.4->nbformat>=4.2.0->ipywidgets>=7.0.0->gmaps) (0.17.3)\n",
      "Requirement already satisfied: wcwidth in c:\\users\\mouha\\anaconda3\\envs\\pythondata\\lib\\site-packages (from prompt-toolkit!=3.0.0,!=3.0.1,<3.1.0,>=2.0.0->ipython>=5.3.0->gmaps) (0.2.5)\n",
      "Requirement already satisfied: notebook>=4.4.1 in c:\\users\\mouha\\anaconda3\\envs\\pythondata\\lib\\site-packages (from widgetsnbextension~=3.5.0->ipywidgets>=7.0.0->gmaps) (6.3.0)\n",
      "Requirement already satisfied: argon2-cffi in c:\\users\\mouha\\anaconda3\\envs\\pythondata\\lib\\site-packages (from notebook>=4.4.1->widgetsnbextension~=3.5.0->ipywidgets>=7.0.0->gmaps) (20.1.0)\n",
      "Requirement already satisfied: terminado>=0.8.3 in c:\\users\\mouha\\anaconda3\\envs\\pythondata\\lib\\site-packages (from notebook>=4.4.1->widgetsnbextension~=3.5.0->ipywidgets>=7.0.0->gmaps) (0.9.4)\n",
      "Requirement already satisfied: jinja2 in c:\\users\\mouha\\anaconda3\\envs\\pythondata\\lib\\site-packages (from notebook>=4.4.1->widgetsnbextension~=3.5.0->ipywidgets>=7.0.0->gmaps) (2.11.3)\n",
      "Requirement already satisfied: pyzmq>=17 in c:\\users\\mouha\\anaconda3\\envs\\pythondata\\lib\\site-packages (from notebook>=4.4.1->widgetsnbextension~=3.5.0->ipywidgets>=7.0.0->gmaps) (20.0.0)\n",
      "Requirement already satisfied: prometheus-client in c:\\users\\mouha\\anaconda3\\envs\\pythondata\\lib\\site-packages (from notebook>=4.4.1->widgetsnbextension~=3.5.0->ipywidgets>=7.0.0->gmaps) (0.10.1)\n",
      "Requirement already satisfied: nbconvert in c:\\users\\mouha\\anaconda3\\envs\\pythondata\\lib\\site-packages (from notebook>=4.4.1->widgetsnbextension~=3.5.0->ipywidgets>=7.0.0->gmaps) (6.0.7)\n",
      "Requirement already satisfied: Send2Trash>=1.5.0 in c:\\users\\mouha\\anaconda3\\envs\\pythondata\\lib\\site-packages (from notebook>=4.4.1->widgetsnbextension~=3.5.0->ipywidgets>=7.0.0->gmaps) (1.5.0)\n",
      "Requirement already satisfied: python-dateutil>=2.1 in c:\\users\\mouha\\anaconda3\\envs\\pythondata\\lib\\site-packages (from jupyter-client->ipykernel>=4.5.1->ipywidgets>=7.0.0->gmaps) (2.8.1)\n",
      "Requirement already satisfied: pywin32>=1.0 in c:\\users\\mouha\\anaconda3\\envs\\pythondata\\lib\\site-packages (from jupyter-core->nbformat>=4.2.0->ipywidgets>=7.0.0->gmaps) (227)\n",
      "Requirement already satisfied: pywinpty>=0.5 in c:\\users\\mouha\\anaconda3\\envs\\pythondata\\lib\\site-packages (from terminado>=0.8.3->notebook>=4.4.1->widgetsnbextension~=3.5.0->ipywidgets>=7.0.0->gmaps) (0.5.7)\n",
      "Requirement already satisfied: cffi>=1.0.0 in c:\\users\\mouha\\anaconda3\\envs\\pythondata\\lib\\site-packages (from argon2-cffi->notebook>=4.4.1->widgetsnbextension~=3.5.0->ipywidgets>=7.0.0->gmaps) (1.14.5)\n",
      "Requirement already satisfied: pycparser in c:\\users\\mouha\\anaconda3\\envs\\pythondata\\lib\\site-packages (from cffi>=1.0.0->argon2-cffi->notebook>=4.4.1->widgetsnbextension~=3.5.0->ipywidgets>=7.0.0->gmaps) (2.20)\n",
      "Requirement already satisfied: zipp>=0.5 in c:\\users\\mouha\\anaconda3\\envs\\pythondata\\lib\\site-packages (from importlib-metadata->jsonschema!=2.5.0,>=2.4->nbformat>=4.2.0->ipywidgets>=7.0.0->gmaps) (3.4.1)\n",
      "Requirement already satisfied: typing-extensions>=3.6.4 in c:\\users\\mouha\\anaconda3\\envs\\pythondata\\lib\\site-packages (from importlib-metadata->jsonschema!=2.5.0,>=2.4->nbformat>=4.2.0->ipywidgets>=7.0.0->gmaps) (3.7.4.3)\n",
      "Requirement already satisfied: MarkupSafe>=0.23 in c:\\users\\mouha\\anaconda3\\envs\\pythondata\\lib\\site-packages (from jinja2->notebook>=4.4.1->widgetsnbextension~=3.5.0->ipywidgets>=7.0.0->gmaps) (1.1.1)\n",
      "Requirement already satisfied: pandocfilters>=1.4.1 in c:\\users\\mouha\\anaconda3\\envs\\pythondata\\lib\\site-packages (from nbconvert->notebook>=4.4.1->widgetsnbextension~=3.5.0->ipywidgets>=7.0.0->gmaps) (1.4.3)\n",
      "Requirement already satisfied: nbclient<0.6.0,>=0.5.0 in c:\\users\\mouha\\anaconda3\\envs\\pythondata\\lib\\site-packages (from nbconvert->notebook>=4.4.1->widgetsnbextension~=3.5.0->ipywidgets>=7.0.0->gmaps) (0.5.3)\n",
      "Requirement already satisfied: testpath in c:\\users\\mouha\\anaconda3\\envs\\pythondata\\lib\\site-packages (from nbconvert->notebook>=4.4.1->widgetsnbextension~=3.5.0->ipywidgets>=7.0.0->gmaps) (0.4.4)\n",
      "Requirement already satisfied: jupyterlab-pygments in c:\\users\\mouha\\anaconda3\\envs\\pythondata\\lib\\site-packages (from nbconvert->notebook>=4.4.1->widgetsnbextension~=3.5.0->ipywidgets>=7.0.0->gmaps) (0.1.2)\n",
      "Requirement already satisfied: entrypoints>=0.2.2 in c:\\users\\mouha\\anaconda3\\envs\\pythondata\\lib\\site-packages (from nbconvert->notebook>=4.4.1->widgetsnbextension~=3.5.0->ipywidgets>=7.0.0->gmaps) (0.3)\n",
      "Requirement already satisfied: mistune<2,>=0.8.1 in c:\\users\\mouha\\anaconda3\\envs\\pythondata\\lib\\site-packages (from nbconvert->notebook>=4.4.1->widgetsnbextension~=3.5.0->ipywidgets>=7.0.0->gmaps) (0.8.4)\n",
      "Requirement already satisfied: bleach in c:\\users\\mouha\\anaconda3\\envs\\pythondata\\lib\\site-packages (from nbconvert->notebook>=4.4.1->widgetsnbextension~=3.5.0->ipywidgets>=7.0.0->gmaps) (3.3.0)\n",
      "Requirement already satisfied: defusedxml in c:\\users\\mouha\\anaconda3\\envs\\pythondata\\lib\\site-packages (from nbconvert->notebook>=4.4.1->widgetsnbextension~=3.5.0->ipywidgets>=7.0.0->gmaps) (0.7.1)\n",
      "Requirement already satisfied: async-generator in c:\\users\\mouha\\anaconda3\\envs\\pythondata\\lib\\site-packages (from nbclient<0.6.0,>=0.5.0->nbconvert->notebook>=4.4.1->widgetsnbextension~=3.5.0->ipywidgets>=7.0.0->gmaps) (1.10)\n",
      "Requirement already satisfied: nest-asyncio in c:\\users\\mouha\\anaconda3\\envs\\pythondata\\lib\\site-packages (from nbclient<0.6.0,>=0.5.0->nbconvert->notebook>=4.4.1->widgetsnbextension~=3.5.0->ipywidgets>=7.0.0->gmaps) (1.5.1)\n",
      "Requirement already satisfied: webencodings in c:\\users\\mouha\\anaconda3\\envs\\pythondata\\lib\\site-packages (from bleach->nbconvert->notebook>=4.4.1->widgetsnbextension~=3.5.0->ipywidgets>=7.0.0->gmaps) (0.5.1)\n",
      "Requirement already satisfied: packaging in c:\\users\\mouha\\anaconda3\\envs\\pythondata\\lib\\site-packages (from bleach->nbconvert->notebook>=4.4.1->widgetsnbextension~=3.5.0->ipywidgets>=7.0.0->gmaps) (20.9)\n",
      "Requirement already satisfied: pyparsing>=2.0.2 in c:\\users\\mouha\\anaconda3\\envs\\pythondata\\lib\\site-packages (from packaging->bleach->nbconvert->notebook>=4.4.1->widgetsnbextension~=3.5.0->ipywidgets>=7.0.0->gmaps) (2.4.7)\n",
      "Note: you may need to restart the kernel to use updated packages.\n"
     ]
    }
   ],
   "source": [
    "pip install gmaps"
   ]
  },
  {
   "cell_type": "code",
   "execution_count": 2,
   "id": "4c3744cc",
   "metadata": {},
   "outputs": [
    {
     "name": "stdout",
     "output_type": "stream",
     "text": [
      "Collecting package metadata (current_repodata.json): ...working... done\n",
      "Solving environment: ...working... done\n",
      "\n",
      "# All requested packages already installed.\n",
      "\n",
      "\n",
      "Note: you may need to restart the kernel to use updated packages.\n"
     ]
    }
   ],
   "source": [
    "conda install -c conda-forge gmaps"
   ]
  },
  {
   "cell_type": "code",
   "execution_count": 3,
   "id": "1b606348",
   "metadata": {},
   "outputs": [],
   "source": [
    "# Import the dependencies.\n",
    "import pandas as pd\n",
    "import gmaps\n",
    "import requests\n",
    "# Import the API key.\n",
    "from config import g_key"
   ]
  },
  {
   "cell_type": "code",
   "execution_count": 1,
   "id": "fb7487f8",
   "metadata": {},
   "outputs": [
    {
     "ename": "NameError",
     "evalue": "name 'pd' is not defined",
     "output_type": "error",
     "traceback": [
      "\u001b[1;31m---------------------------------------------------------------------------\u001b[0m",
      "\u001b[1;31mNameError\u001b[0m                                 Traceback (most recent call last)",
      "\u001b[1;32m<ipython-input-1-e5181a6ce72f>\u001b[0m in \u001b[0;36m<module>\u001b[1;34m\u001b[0m\n\u001b[0;32m      1\u001b[0m \u001b[1;31m# Store the CSV you saved created in part one into a DataFrame.\u001b[0m\u001b[1;33m\u001b[0m\u001b[1;33m\u001b[0m\u001b[1;33m\u001b[0m\u001b[0m\n\u001b[1;32m----> 2\u001b[1;33m \u001b[0mcity_data_df\u001b[0m \u001b[1;33m=\u001b[0m \u001b[0mpd\u001b[0m\u001b[1;33m.\u001b[0m\u001b[0mread_csv\u001b[0m\u001b[1;33m(\u001b[0m\u001b[1;34m\"weather_data/cities.csv\"\u001b[0m\u001b[1;33m)\u001b[0m\u001b[1;33m\u001b[0m\u001b[1;33m\u001b[0m\u001b[0m\n\u001b[0m\u001b[0;32m      3\u001b[0m \u001b[0mcity_data_df\u001b[0m\u001b[1;33m.\u001b[0m\u001b[0mhead\u001b[0m\u001b[1;33m(\u001b[0m\u001b[1;33m)\u001b[0m\u001b[1;33m\u001b[0m\u001b[1;33m\u001b[0m\u001b[0m\n",
      "\u001b[1;31mNameError\u001b[0m: name 'pd' is not defined"
     ]
    }
   ],
   "source": [
    "# Store the CSV you saved created in part one into a DataFrame.\n",
    "city_data_df = pd.read_csv(\"weather_data/cities.csv\")\n",
    "city_data_df.head()"
   ]
  },
  {
   "cell_type": "code",
   "execution_count": 5,
   "id": "4354f65e",
   "metadata": {},
   "outputs": [
    {
     "data": {
      "text/plain": [
       "City_ID         int64\n",
       "City           object\n",
       "Country        object\n",
       "Date           object\n",
       "Lat           float64\n",
       "Lng           float64\n",
       "Max Temp      float64\n",
       "Humidity        int64\n",
       "Cloudiness      int64\n",
       "Wind Speed    float64\n",
       "dtype: object"
      ]
     },
     "execution_count": 5,
     "metadata": {},
     "output_type": "execute_result"
    }
   ],
   "source": [
    "# Get the data types\n",
    "city_data_df.dtypes"
   ]
  },
  {
   "cell_type": "code",
   "execution_count": 6,
   "id": "ac0b7f4a",
   "metadata": {},
   "outputs": [],
   "source": [
    "# Configure gmaps to use your Google API key.\n",
    "gmaps.configure(api_key=g_key)"
   ]
  },
  {
   "cell_type": "code",
   "execution_count": 7,
   "id": "fff6499e",
   "metadata": {},
   "outputs": [],
   "source": [
    "# Get the maximum temperature.\n",
    "max_temp = city_data_df[\"Max Temp\"]\n",
    "temps = []\n",
    "for temp in max_temp:\n",
    "    temps.append(max(temp, 0))"
   ]
  },
  {
   "cell_type": "code",
   "execution_count": 8,
   "id": "ed95a5e6",
   "metadata": {},
   "outputs": [
    {
     "data": {
      "application/vnd.jupyter.widget-view+json": {
       "model_id": "ec2aedc29a3943faa6adca22ff109080",
       "version_major": 2,
       "version_minor": 0
      },
      "text/plain": [
       "Figure(layout=FigureLayout(height='420px'))"
      ]
     },
     "metadata": {},
     "output_type": "display_data"
    }
   ],
   "source": [
    "# Heatmap of temperature\n",
    "# Get the latitude and longitude.\n",
    "locations = city_data_df[[\"Lat\", \"Lng\"]]\n",
    "# Get the maximum temperature.\n",
    "max_temp = city_data_df[\"Max Temp\"]\n",
    "# Assign the figure variable.\n",
    "fig = gmaps.figure(center=(30.0, 31.0), zoom_level=1.5)\n",
    "# Assign the heatmap variable.\n",
    "heat_layer = gmaps.heatmap_layer(locations, weights=[max(temp, 0) for temp in max_temp], dissipating=False, max_intensity=300, point_radius=4)\n",
    "# Add the heatmap layer.\n",
    "fig.add_layer(heat_layer)\n",
    "# Call the figure to plot the data.\n",
    "fig"
   ]
  },
  {
   "cell_type": "code",
   "execution_count": 9,
   "id": "26843167",
   "metadata": {},
   "outputs": [
    {
     "data": {
      "application/vnd.jupyter.widget-view+json": {
       "model_id": "1814a8fe56524a2ead80fba3b607161c",
       "version_major": 2,
       "version_minor": 0
      },
      "text/plain": [
       "Figure(layout=FigureLayout(height='420px'))"
      ]
     },
     "metadata": {},
     "output_type": "display_data"
    }
   ],
   "source": [
    "# Heatmap of percent humidity\n",
    "locations = city_data_df[[\"Lat\", \"Lng\"]]\n",
    "humidity = city_data_df[\"Humidity\"]\n",
    "fig = gmaps.figure(center=(30.0, 31.0), zoom_level=1.5)\n",
    "heat_layer = gmaps.heatmap_layer(locations, weights=humidity, dissipating=False, max_intensity=300, point_radius=4)\n",
    "\n",
    "fig.add_layer(heat_layer)\n",
    "# Call the figure to plot the data.\n",
    "fig"
   ]
  },
  {
   "cell_type": "code",
   "execution_count": 10,
   "id": "1f93721a",
   "metadata": {},
   "outputs": [
    {
     "data": {
      "application/vnd.jupyter.widget-view+json": {
       "model_id": "ddf13e01592b4d3e9d0e077e65c3233b",
       "version_major": 2,
       "version_minor": 0
      },
      "text/plain": [
       "Figure(layout=FigureLayout(height='420px'))"
      ]
     },
     "metadata": {},
     "output_type": "display_data"
    }
   ],
   "source": [
    "# Heatmap of percent cloudiness\n",
    "locations = city_data_df[[\"Lat\", \"Lng\"]]\n",
    "clouds = city_data_df[\"Cloudiness\"]\n",
    "fig = gmaps.figure(center=(30.0, 31.0), zoom_level=1.5)\n",
    "heat_layer = gmaps.heatmap_layer(locations, weights=clouds, dissipating=False, max_intensity=300, point_radius=4)\n",
    "\n",
    "fig.add_layer(heat_layer)\n",
    "# Call the figure to plot the data.\n",
    "fig"
   ]
  },
  {
   "cell_type": "code",
   "execution_count": 11,
   "id": "a6cf3ec1",
   "metadata": {},
   "outputs": [
    {
     "data": {
      "application/vnd.jupyter.widget-view+json": {
       "model_id": "87d473b99c0946a89d548e01aada0191",
       "version_major": 2,
       "version_minor": 0
      },
      "text/plain": [
       "Figure(layout=FigureLayout(height='420px'))"
      ]
     },
     "metadata": {},
     "output_type": "display_data"
    }
   ],
   "source": [
    "# Heatmap of Wind Speed \n",
    "locations = city_data_df[[\"Lat\", \"Lng\"]]\n",
    "wind = city_data_df[\"Wind Speed\"]\n",
    "fig = gmaps.figure(center=(30.0, 31.0), zoom_level=1.5)\n",
    "heat_layer = gmaps.heatmap_layer(locations, weights=wind, dissipating=False, max_intensity=300, point_radius=4)\n",
    "\n",
    "fig.add_layer(heat_layer)\n",
    "# Call the figure to plot the data.\n",
    "fig"
   ]
  },
  {
   "cell_type": "code",
   "execution_count": 12,
   "id": "840b8a9d",
   "metadata": {},
   "outputs": [
    {
     "name": "stdout",
     "output_type": "stream",
     "text": [
      "What is the minimum temperature you would like for your trip? 75\n",
      "What is the maximum temperature you would like for your trip? 90\n"
     ]
    }
   ],
   "source": [
    "# Ask the customer to add a minimum and maximum temperature value.\n",
    "min_temp = float(input(\"What is the minimum temperature you would like for your trip? \"))\n",
    "max_temp = float(input(\"What is the maximum temperature you would like for your trip? \"))"
   ]
  },
  {
   "cell_type": "code",
   "execution_count": 19,
   "id": "cbac41cb",
   "metadata": {},
   "outputs": [
    {
     "data": {
      "text/html": [
       "<div>\n",
       "<style scoped>\n",
       "    .dataframe tbody tr th:only-of-type {\n",
       "        vertical-align: middle;\n",
       "    }\n",
       "\n",
       "    .dataframe tbody tr th {\n",
       "        vertical-align: top;\n",
       "    }\n",
       "\n",
       "    .dataframe thead th {\n",
       "        text-align: right;\n",
       "    }\n",
       "</style>\n",
       "<table border=\"1\" class=\"dataframe\">\n",
       "  <thead>\n",
       "    <tr style=\"text-align: right;\">\n",
       "      <th></th>\n",
       "      <th>City_ID</th>\n",
       "      <th>City</th>\n",
       "      <th>Country</th>\n",
       "      <th>Date</th>\n",
       "      <th>Lat</th>\n",
       "      <th>Lng</th>\n",
       "      <th>Max Temp</th>\n",
       "      <th>Humidity</th>\n",
       "      <th>Cloudiness</th>\n",
       "      <th>Wind Speed</th>\n",
       "    </tr>\n",
       "  </thead>\n",
       "  <tbody>\n",
       "    <tr>\n",
       "      <th>5</th>\n",
       "      <td>5</td>\n",
       "      <td>Biak</td>\n",
       "      <td>ID</td>\n",
       "      <td>2021-09-29 03:47:20</td>\n",
       "      <td>-0.9131</td>\n",
       "      <td>122.8766</td>\n",
       "      <td>83.19</td>\n",
       "      <td>71</td>\n",
       "      <td>42</td>\n",
       "      <td>7.20</td>\n",
       "    </tr>\n",
       "    <tr>\n",
       "      <th>7</th>\n",
       "      <td>7</td>\n",
       "      <td>Umm Kaddadah</td>\n",
       "      <td>SD</td>\n",
       "      <td>2021-09-29 03:47:22</td>\n",
       "      <td>13.6017</td>\n",
       "      <td>26.6876</td>\n",
       "      <td>83.03</td>\n",
       "      <td>23</td>\n",
       "      <td>60</td>\n",
       "      <td>15.14</td>\n",
       "    </tr>\n",
       "    <tr>\n",
       "      <th>9</th>\n",
       "      <td>9</td>\n",
       "      <td>Vaini</td>\n",
       "      <td>TO</td>\n",
       "      <td>2021-09-29 03:47:23</td>\n",
       "      <td>-21.2000</td>\n",
       "      <td>-175.2000</td>\n",
       "      <td>78.96</td>\n",
       "      <td>89</td>\n",
       "      <td>20</td>\n",
       "      <td>9.22</td>\n",
       "    </tr>\n",
       "    <tr>\n",
       "      <th>11</th>\n",
       "      <td>11</td>\n",
       "      <td>Kapaa</td>\n",
       "      <td>US</td>\n",
       "      <td>2021-09-29 03:47:25</td>\n",
       "      <td>22.0752</td>\n",
       "      <td>-159.3190</td>\n",
       "      <td>82.38</td>\n",
       "      <td>79</td>\n",
       "      <td>75</td>\n",
       "      <td>19.57</td>\n",
       "    </tr>\n",
       "    <tr>\n",
       "      <th>15</th>\n",
       "      <td>15</td>\n",
       "      <td>Saint George</td>\n",
       "      <td>US</td>\n",
       "      <td>2021-09-29 03:47:28</td>\n",
       "      <td>37.1041</td>\n",
       "      <td>-113.5841</td>\n",
       "      <td>79.39</td>\n",
       "      <td>28</td>\n",
       "      <td>20</td>\n",
       "      <td>1.01</td>\n",
       "    </tr>\n",
       "    <tr>\n",
       "      <th>20</th>\n",
       "      <td>20</td>\n",
       "      <td>Chandbali</td>\n",
       "      <td>IN</td>\n",
       "      <td>2021-09-29 03:47:31</td>\n",
       "      <td>20.7833</td>\n",
       "      <td>86.7667</td>\n",
       "      <td>83.39</td>\n",
       "      <td>78</td>\n",
       "      <td>100</td>\n",
       "      <td>10.16</td>\n",
       "    </tr>\n",
       "    <tr>\n",
       "      <th>24</th>\n",
       "      <td>24</td>\n",
       "      <td>Samarai</td>\n",
       "      <td>PG</td>\n",
       "      <td>2021-09-29 03:47:34</td>\n",
       "      <td>-10.6167</td>\n",
       "      <td>150.6667</td>\n",
       "      <td>79.36</td>\n",
       "      <td>87</td>\n",
       "      <td>95</td>\n",
       "      <td>16.28</td>\n",
       "    </tr>\n",
       "    <tr>\n",
       "      <th>25</th>\n",
       "      <td>25</td>\n",
       "      <td>Palu</td>\n",
       "      <td>ID</td>\n",
       "      <td>2021-09-29 03:47:35</td>\n",
       "      <td>-0.8917</td>\n",
       "      <td>119.8707</td>\n",
       "      <td>89.10</td>\n",
       "      <td>66</td>\n",
       "      <td>77</td>\n",
       "      <td>3.27</td>\n",
       "    </tr>\n",
       "    <tr>\n",
       "      <th>26</th>\n",
       "      <td>26</td>\n",
       "      <td>Thinadhoo</td>\n",
       "      <td>MV</td>\n",
       "      <td>2021-09-29 03:47:36</td>\n",
       "      <td>0.5333</td>\n",
       "      <td>72.9333</td>\n",
       "      <td>82.78</td>\n",
       "      <td>72</td>\n",
       "      <td>76</td>\n",
       "      <td>9.51</td>\n",
       "    </tr>\n",
       "    <tr>\n",
       "      <th>31</th>\n",
       "      <td>31</td>\n",
       "      <td>Cayenne</td>\n",
       "      <td>GF</td>\n",
       "      <td>2021-09-29 03:47:41</td>\n",
       "      <td>4.9333</td>\n",
       "      <td>-52.3333</td>\n",
       "      <td>83.08</td>\n",
       "      <td>79</td>\n",
       "      <td>0</td>\n",
       "      <td>4.00</td>\n",
       "    </tr>\n",
       "  </tbody>\n",
       "</table>\n",
       "</div>"
      ],
      "text/plain": [
       "    City_ID          City Country                 Date      Lat       Lng  \\\n",
       "5         5          Biak      ID  2021-09-29 03:47:20  -0.9131  122.8766   \n",
       "7         7  Umm Kaddadah      SD  2021-09-29 03:47:22  13.6017   26.6876   \n",
       "9         9         Vaini      TO  2021-09-29 03:47:23 -21.2000 -175.2000   \n",
       "11       11         Kapaa      US  2021-09-29 03:47:25  22.0752 -159.3190   \n",
       "15       15  Saint George      US  2021-09-29 03:47:28  37.1041 -113.5841   \n",
       "20       20     Chandbali      IN  2021-09-29 03:47:31  20.7833   86.7667   \n",
       "24       24       Samarai      PG  2021-09-29 03:47:34 -10.6167  150.6667   \n",
       "25       25          Palu      ID  2021-09-29 03:47:35  -0.8917  119.8707   \n",
       "26       26     Thinadhoo      MV  2021-09-29 03:47:36   0.5333   72.9333   \n",
       "31       31       Cayenne      GF  2021-09-29 03:47:41   4.9333  -52.3333   \n",
       "\n",
       "    Max Temp  Humidity  Cloudiness  Wind Speed  \n",
       "5      83.19        71          42        7.20  \n",
       "7      83.03        23          60       15.14  \n",
       "9      78.96        89          20        9.22  \n",
       "11     82.38        79          75       19.57  \n",
       "15     79.39        28          20        1.01  \n",
       "20     83.39        78         100       10.16  \n",
       "24     79.36        87          95       16.28  \n",
       "25     89.10        66          77        3.27  \n",
       "26     82.78        72          76        9.51  \n",
       "31     83.08        79           0        4.00  "
      ]
     },
     "execution_count": 19,
     "metadata": {},
     "output_type": "execute_result"
    }
   ],
   "source": [
    "# Filter the dataset to find the cities that fit the criteria.\n",
    "preferred_cities_df = city_data_df.loc[(city_data_df[\"Max Temp\"] <= max_temp) & \\\n",
    "                                       (city_data_df[\"Max Temp\"] >= min_temp)]\n",
    "preferred_cities_df.head(10)"
   ]
  },
  {
   "cell_type": "code",
   "execution_count": 20,
   "id": "7b46a0e6",
   "metadata": {},
   "outputs": [
    {
     "data": {
      "text/plain": [
       "City_ID       162\n",
       "City          162\n",
       "Country       162\n",
       "Date          162\n",
       "Lat           162\n",
       "Lng           162\n",
       "Max Temp      162\n",
       "Humidity      162\n",
       "Cloudiness    162\n",
       "Wind Speed    162\n",
       "dtype: int64"
      ]
     },
     "execution_count": 20,
     "metadata": {},
     "output_type": "execute_result"
    }
   ],
   "source": [
    "preferred_cities_df.count()"
   ]
  },
  {
   "cell_type": "code",
   "execution_count": 21,
   "id": "07dc9922",
   "metadata": {},
   "outputs": [
    {
     "data": {
      "text/html": [
       "<div>\n",
       "<style scoped>\n",
       "    .dataframe tbody tr th:only-of-type {\n",
       "        vertical-align: middle;\n",
       "    }\n",
       "\n",
       "    .dataframe tbody tr th {\n",
       "        vertical-align: top;\n",
       "    }\n",
       "\n",
       "    .dataframe thead th {\n",
       "        text-align: right;\n",
       "    }\n",
       "</style>\n",
       "<table border=\"1\" class=\"dataframe\">\n",
       "  <thead>\n",
       "    <tr style=\"text-align: right;\">\n",
       "      <th></th>\n",
       "      <th>City</th>\n",
       "      <th>Country</th>\n",
       "      <th>Max Temp</th>\n",
       "      <th>Lat</th>\n",
       "      <th>Lng</th>\n",
       "      <th>Hotel Name</th>\n",
       "    </tr>\n",
       "  </thead>\n",
       "  <tbody>\n",
       "    <tr>\n",
       "      <th>5</th>\n",
       "      <td>Biak</td>\n",
       "      <td>ID</td>\n",
       "      <td>83.19</td>\n",
       "      <td>-0.9131</td>\n",
       "      <td>122.8766</td>\n",
       "      <td></td>\n",
       "    </tr>\n",
       "    <tr>\n",
       "      <th>7</th>\n",
       "      <td>Umm Kaddadah</td>\n",
       "      <td>SD</td>\n",
       "      <td>83.03</td>\n",
       "      <td>13.6017</td>\n",
       "      <td>26.6876</td>\n",
       "      <td></td>\n",
       "    </tr>\n",
       "    <tr>\n",
       "      <th>9</th>\n",
       "      <td>Vaini</td>\n",
       "      <td>TO</td>\n",
       "      <td>78.96</td>\n",
       "      <td>-21.2000</td>\n",
       "      <td>-175.2000</td>\n",
       "      <td></td>\n",
       "    </tr>\n",
       "    <tr>\n",
       "      <th>11</th>\n",
       "      <td>Kapaa</td>\n",
       "      <td>US</td>\n",
       "      <td>82.38</td>\n",
       "      <td>22.0752</td>\n",
       "      <td>-159.3190</td>\n",
       "      <td></td>\n",
       "    </tr>\n",
       "    <tr>\n",
       "      <th>15</th>\n",
       "      <td>Saint George</td>\n",
       "      <td>US</td>\n",
       "      <td>79.39</td>\n",
       "      <td>37.1041</td>\n",
       "      <td>-113.5841</td>\n",
       "      <td></td>\n",
       "    </tr>\n",
       "    <tr>\n",
       "      <th>20</th>\n",
       "      <td>Chandbali</td>\n",
       "      <td>IN</td>\n",
       "      <td>83.39</td>\n",
       "      <td>20.7833</td>\n",
       "      <td>86.7667</td>\n",
       "      <td></td>\n",
       "    </tr>\n",
       "    <tr>\n",
       "      <th>24</th>\n",
       "      <td>Samarai</td>\n",
       "      <td>PG</td>\n",
       "      <td>79.36</td>\n",
       "      <td>-10.6167</td>\n",
       "      <td>150.6667</td>\n",
       "      <td></td>\n",
       "    </tr>\n",
       "    <tr>\n",
       "      <th>25</th>\n",
       "      <td>Palu</td>\n",
       "      <td>ID</td>\n",
       "      <td>89.10</td>\n",
       "      <td>-0.8917</td>\n",
       "      <td>119.8707</td>\n",
       "      <td></td>\n",
       "    </tr>\n",
       "    <tr>\n",
       "      <th>26</th>\n",
       "      <td>Thinadhoo</td>\n",
       "      <td>MV</td>\n",
       "      <td>82.78</td>\n",
       "      <td>0.5333</td>\n",
       "      <td>72.9333</td>\n",
       "      <td></td>\n",
       "    </tr>\n",
       "    <tr>\n",
       "      <th>31</th>\n",
       "      <td>Cayenne</td>\n",
       "      <td>GF</td>\n",
       "      <td>83.08</td>\n",
       "      <td>4.9333</td>\n",
       "      <td>-52.3333</td>\n",
       "      <td></td>\n",
       "    </tr>\n",
       "  </tbody>\n",
       "</table>\n",
       "</div>"
      ],
      "text/plain": [
       "            City Country  Max Temp      Lat       Lng Hotel Name\n",
       "5           Biak      ID     83.19  -0.9131  122.8766           \n",
       "7   Umm Kaddadah      SD     83.03  13.6017   26.6876           \n",
       "9          Vaini      TO     78.96 -21.2000 -175.2000           \n",
       "11         Kapaa      US     82.38  22.0752 -159.3190           \n",
       "15  Saint George      US     79.39  37.1041 -113.5841           \n",
       "20     Chandbali      IN     83.39  20.7833   86.7667           \n",
       "24       Samarai      PG     79.36 -10.6167  150.6667           \n",
       "25          Palu      ID     89.10  -0.8917  119.8707           \n",
       "26     Thinadhoo      MV     82.78   0.5333   72.9333           \n",
       "31       Cayenne      GF     83.08   4.9333  -52.3333           "
      ]
     },
     "execution_count": 21,
     "metadata": {},
     "output_type": "execute_result"
    }
   ],
   "source": [
    "# Create DataFrame called hotel_df to store hotel names along with city, country, max temp, and coordinates.\n",
    "hotel_df = preferred_cities_df[[\"City\", \"Country\", \"Max Temp\", \"Lat\", \"Lng\"]].copy()\n",
    "hotel_df[\"Hotel Name\"] = \"\"\n",
    "hotel_df.head(10)"
   ]
  },
  {
   "cell_type": "code",
   "execution_count": 22,
   "id": "fdeefc1d",
   "metadata": {},
   "outputs": [],
   "source": [
    "# Set parameters to search for a hotel.\n",
    "params = {\n",
    "    \"radius\": 5000,\n",
    "    \"type\": \"lodging\",\n",
    "    \"key\": g_key}"
   ]
  },
  {
   "cell_type": "code",
   "execution_count": 45,
   "id": "18941cf8",
   "metadata": {},
   "outputs": [
    {
     "name": "stdout",
     "output_type": "stream",
     "text": [
      "Hotel not found... skipping.\n",
      "Hotel not found... skipping.\n",
      "Hotel not found... skipping.\n",
      "Hotel not found... skipping.\n",
      "Hotel not found... skipping.\n",
      "Hotel not found... skipping.\n",
      "Hotel not found... skipping.\n",
      "Hotel not found... skipping.\n",
      "Hotel not found... skipping.\n",
      "Hotel not found... skipping.\n",
      "Hotel not found... skipping.\n",
      "Hotel not found... skipping.\n"
     ]
    }
   ],
   "source": [
    "# Iterate through the DataFrame.\n",
    "for index, row in hotel_df.iterrows():\n",
    "    # Get the latitude and longitude.\n",
    "    lat = row[\"Lat\"]\n",
    "    lng = row[\"Lng\"]\n",
    "\n",
    "    # Add the latitude and longitude to location key for the params dictionary.\n",
    "    params[\"location\"] = f\"{lat},{lng}\"\n",
    "\n",
    "    # Use the search term: \"lodging\" and our latitude and longitude.\n",
    "    base_url = \"https://maps.googleapis.com/maps/api/place/nearbysearch/json\"\n",
    "    # Make request and get the JSON data from the search.\n",
    "    hotels = requests.get(base_url, params=params).json()\n",
    "    # Grab the first hotel from the results and store the name.\n",
    "    try:\n",
    "        hotel_df.loc[index, \"Hotel Name\"] = hotels[\"results\"][0][\"name\"]\n",
    "    except (IndexError):\n",
    "        print(\"Hotel not found... skipping.\")"
   ]
  },
  {
   "cell_type": "code",
   "execution_count": 46,
   "id": "3e96782d",
   "metadata": {},
   "outputs": [
    {
     "data": {
      "text/html": [
       "<div>\n",
       "<style scoped>\n",
       "    .dataframe tbody tr th:only-of-type {\n",
       "        vertical-align: middle;\n",
       "    }\n",
       "\n",
       "    .dataframe tbody tr th {\n",
       "        vertical-align: top;\n",
       "    }\n",
       "\n",
       "    .dataframe thead th {\n",
       "        text-align: right;\n",
       "    }\n",
       "</style>\n",
       "<table border=\"1\" class=\"dataframe\">\n",
       "  <thead>\n",
       "    <tr style=\"text-align: right;\">\n",
       "      <th></th>\n",
       "      <th>City</th>\n",
       "      <th>Country</th>\n",
       "      <th>Max Temp</th>\n",
       "      <th>Lat</th>\n",
       "      <th>Lng</th>\n",
       "      <th>Hotel Name</th>\n",
       "    </tr>\n",
       "  </thead>\n",
       "  <tbody>\n",
       "    <tr>\n",
       "      <th>5</th>\n",
       "      <td>Biak</td>\n",
       "      <td>ID</td>\n",
       "      <td>83.19</td>\n",
       "      <td>-0.9131</td>\n",
       "      <td>122.8766</td>\n",
       "      <td>Penginapan Kim</td>\n",
       "    </tr>\n",
       "    <tr>\n",
       "      <th>7</th>\n",
       "      <td>Umm Kaddadah</td>\n",
       "      <td>SD</td>\n",
       "      <td>83.03</td>\n",
       "      <td>13.6017</td>\n",
       "      <td>26.6876</td>\n",
       "      <td></td>\n",
       "    </tr>\n",
       "    <tr>\n",
       "      <th>9</th>\n",
       "      <td>Vaini</td>\n",
       "      <td>TO</td>\n",
       "      <td>78.96</td>\n",
       "      <td>-21.2000</td>\n",
       "      <td>-175.2000</td>\n",
       "      <td>Keleti Beach Resort</td>\n",
       "    </tr>\n",
       "    <tr>\n",
       "      <th>11</th>\n",
       "      <td>Kapaa</td>\n",
       "      <td>US</td>\n",
       "      <td>82.38</td>\n",
       "      <td>22.0752</td>\n",
       "      <td>-159.3190</td>\n",
       "      <td>Sheraton Kauai Coconut Beach Resort</td>\n",
       "    </tr>\n",
       "    <tr>\n",
       "      <th>15</th>\n",
       "      <td>Saint George</td>\n",
       "      <td>US</td>\n",
       "      <td>79.39</td>\n",
       "      <td>37.1041</td>\n",
       "      <td>-113.5841</td>\n",
       "      <td>Best Western Plus Abbey Inn</td>\n",
       "    </tr>\n",
       "    <tr>\n",
       "      <th>20</th>\n",
       "      <td>Chandbali</td>\n",
       "      <td>IN</td>\n",
       "      <td>83.39</td>\n",
       "      <td>20.7833</td>\n",
       "      <td>86.7667</td>\n",
       "      <td>KABITA HOMES</td>\n",
       "    </tr>\n",
       "    <tr>\n",
       "      <th>24</th>\n",
       "      <td>Samarai</td>\n",
       "      <td>PG</td>\n",
       "      <td>79.36</td>\n",
       "      <td>-10.6167</td>\n",
       "      <td>150.6667</td>\n",
       "      <td>Nuli Sapi</td>\n",
       "    </tr>\n",
       "    <tr>\n",
       "      <th>25</th>\n",
       "      <td>Palu</td>\n",
       "      <td>ID</td>\n",
       "      <td>89.10</td>\n",
       "      <td>-0.8917</td>\n",
       "      <td>119.8707</td>\n",
       "      <td>Hotel Santika Palu</td>\n",
       "    </tr>\n",
       "    <tr>\n",
       "      <th>26</th>\n",
       "      <td>Thinadhoo</td>\n",
       "      <td>MV</td>\n",
       "      <td>82.78</td>\n",
       "      <td>0.5333</td>\n",
       "      <td>72.9333</td>\n",
       "      <td></td>\n",
       "    </tr>\n",
       "    <tr>\n",
       "      <th>31</th>\n",
       "      <td>Cayenne</td>\n",
       "      <td>GF</td>\n",
       "      <td>83.08</td>\n",
       "      <td>4.9333</td>\n",
       "      <td>-52.3333</td>\n",
       "      <td>Hôtel Le Dronmi</td>\n",
       "    </tr>\n",
       "  </tbody>\n",
       "</table>\n",
       "</div>"
      ],
      "text/plain": [
       "            City Country  Max Temp      Lat       Lng  \\\n",
       "5           Biak      ID     83.19  -0.9131  122.8766   \n",
       "7   Umm Kaddadah      SD     83.03  13.6017   26.6876   \n",
       "9          Vaini      TO     78.96 -21.2000 -175.2000   \n",
       "11         Kapaa      US     82.38  22.0752 -159.3190   \n",
       "15  Saint George      US     79.39  37.1041 -113.5841   \n",
       "20     Chandbali      IN     83.39  20.7833   86.7667   \n",
       "24       Samarai      PG     79.36 -10.6167  150.6667   \n",
       "25          Palu      ID     89.10  -0.8917  119.8707   \n",
       "26     Thinadhoo      MV     82.78   0.5333   72.9333   \n",
       "31       Cayenne      GF     83.08   4.9333  -52.3333   \n",
       "\n",
       "                             Hotel Name  \n",
       "5                        Penginapan Kim  \n",
       "7                                        \n",
       "9                   Keleti Beach Resort  \n",
       "11  Sheraton Kauai Coconut Beach Resort  \n",
       "15          Best Western Plus Abbey Inn  \n",
       "20                         KABITA HOMES  \n",
       "24                            Nuli Sapi  \n",
       "25                   Hotel Santika Palu  \n",
       "26                                       \n",
       "31                      Hôtel Le Dronmi  "
      ]
     },
     "execution_count": 46,
     "metadata": {},
     "output_type": "execute_result"
    }
   ],
   "source": [
    "hotel_df.head(10)"
   ]
  },
  {
   "cell_type": "code",
   "execution_count": 48,
   "id": "e4c13277",
   "metadata": {},
   "outputs": [
    {
     "data": {
      "application/vnd.jupyter.widget-view+json": {
       "model_id": "ff421048b0534ceb88a37be731d2d977",
       "version_major": 2,
       "version_minor": 0
      },
      "text/plain": [
       "Figure(layout=FigureLayout(height='420px'))"
      ]
     },
     "metadata": {},
     "output_type": "display_data"
    }
   ],
   "source": [
    "# Add a heatmap of temperature for the vacation spots and marker for each city.\n",
    "locations = hotel_df[[\"Lat\", \"Lng\"]]\n",
    "max_temp = hotel_df[\"Max Temp\"]\n",
    "fig = gmaps.figure(center=(30.0, 31.0), zoom_level=1.5)\n",
    "heat_layer = gmaps.heatmap_layer(locations, weights=max_temp,\n",
    "             dissipating=False, max_intensity=300, point_radius=4)\n",
    "marker_layer = gmaps.marker_layer(locations)\n",
    "fig.add_layer(heat_layer)\n",
    "fig.add_layer(marker_layer)\n",
    "# Call the figure to plot the data.\n",
    "fig"
   ]
  },
  {
   "cell_type": "code",
   "execution_count": 52,
   "id": "f396528c",
   "metadata": {},
   "outputs": [
    {
     "data": {
      "application/vnd.jupyter.widget-view+json": {
       "model_id": "be1638c423a84f72a5e500aeff547e97",
       "version_major": 2,
       "version_minor": 0
      },
      "text/plain": [
       "Figure(layout=FigureLayout(height='420px'))"
      ]
     },
     "metadata": {},
     "output_type": "display_data"
    }
   ],
   "source": [
    "info_box_template = \"\"\"\n",
    "<dl>\n",
    "<dt>Hotel Name</dt><dd>{Hotel Name}</dd>\n",
    "<dt>City</dt><dd>{City}</dd>\n",
    "<dt>Country</dt><dd>{Country}</dd>\n",
    "<dt>Max Temp</dt><dd>{Max Temp} °F</dd>\n",
    "</dl>\n",
    "\"\"\"\n",
    "# Store the DataFrame Row.\n",
    "hotel_info = [info_box_template.format(**row) for index, row in hotel_df.iterrows()]\n",
    "# Add a heatmap of temperature for the vacation spots and a pop-up marker for each city.\n",
    "locations = hotel_df[[\"Lat\", \"Lng\"]]\n",
    "max_temp = hotel_df[\"Max Temp\"]\n",
    "fig = gmaps.figure(center=(30.0, 31.0), zoom_level=1.5)\n",
    "heat_layer = gmaps.heatmap_layer(locations, weights=max_temp,dissipating=False,\n",
    "             max_intensity=300, point_radius=4)\n",
    "marker_layer = gmaps.marker_layer(locations, info_box_content=hotel_info)\n",
    "fig.add_layer(heat_layer)\n",
    "fig.add_layer(marker_layer)\n",
    "\n",
    "# Call the figure to plot the data.\n",
    "fig"
   ]
  }
 ],
 "metadata": {
  "kernelspec": {
   "display_name": "PythonData",
   "language": "python",
   "name": "pythondata"
  },
  "language_info": {
   "codemirror_mode": {
    "name": "ipython",
    "version": 3
   },
   "file_extension": ".py",
   "mimetype": "text/x-python",
   "name": "python",
   "nbconvert_exporter": "python",
   "pygments_lexer": "ipython3",
   "version": "3.7.10"
  }
 },
 "nbformat": 4,
 "nbformat_minor": 5
}
